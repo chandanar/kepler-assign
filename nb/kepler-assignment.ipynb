{
 "cells": [
  {
   "cell_type": "markdown",
   "metadata": {},
   "source": [
    "# Run Kepler in Windows -  Jupyter notebook\n",
    "\n",
    "### Setup Jupyter to run kepler\n",
    "\n",
    "###### Solve: ModuleNotFoundError: No module named 'keplergl'\n",
    "Resources: \n",
    "https://stackoverflow.com/questions/50876702/cant-install-fiona-on-windows\n",
    "https://stackoverflow.com/questions/50876702/cant-install-fiona-on-windows\n",
    "\n",
    "Downloads \thttps://www.lfd.uci.edu/~gohlke/pythonlibs/#gdal\n",
    "\t\t\thttps://www.lfd.uci.edu/~gohlke/pythonlibs/#fiona\n",
    "\n",
    "In Anaconda prompt (install order is a must):\n",
    "\n",
    "pip install wheel\n",
    "pip install C:\\Users\\chandanar\\Downloads\\Shapely-1.7.0-cp37-cp37m-win_amd64.whl\n",
    "pip install C:\\Users\\chandanar\\Downloads\\GDAL-3.0.4-cp37-cp37m-win_amd64.whl\n",
    "pip install C:\\Users\\chandanar\\Downloads\\Fiona-1.8.13-cp37-cp37m-win_amd64.whl\n",
    "pip install keplergl"
   ]
  },
  {
   "cell_type": "code",
   "execution_count": 7,
   "metadata": {},
   "outputs": [
    {
     "data": {
      "text/html": [
       "<div>\n",
       "<style scoped>\n",
       "    .dataframe tbody tr th:only-of-type {\n",
       "        vertical-align: middle;\n",
       "    }\n",
       "\n",
       "    .dataframe tbody tr th {\n",
       "        vertical-align: top;\n",
       "    }\n",
       "\n",
       "    .dataframe thead th {\n",
       "        text-align: right;\n",
       "    }\n",
       "</style>\n",
       "<table border=\"1\" class=\"dataframe\">\n",
       "  <thead>\n",
       "    <tr style=\"text-align: right;\">\n",
       "      <th></th>\n",
       "      <th>CMPLNT_NUM</th>\n",
       "      <th>ADDR_PCT_CD</th>\n",
       "      <th>BORO_NM</th>\n",
       "      <th>CMPLNT_FR_DT</th>\n",
       "      <th>CMPLNT_FR_TM</th>\n",
       "      <th>CMPLNT_TO_DT</th>\n",
       "      <th>CMPLNT_TO_TM</th>\n",
       "      <th>CRM_ATPT_CPTD_CD</th>\n",
       "      <th>HADEVELOPT</th>\n",
       "      <th>HOUSING_PSA</th>\n",
       "      <th>...</th>\n",
       "      <th>TRANSIT_DISTRICT</th>\n",
       "      <th>VIC_AGE_GROUP</th>\n",
       "      <th>VIC_RACE</th>\n",
       "      <th>VIC_SEX</th>\n",
       "      <th>X_COORD_CD</th>\n",
       "      <th>Y_COORD_CD</th>\n",
       "      <th>Latitude</th>\n",
       "      <th>Longitude</th>\n",
       "      <th>Lat_Lon</th>\n",
       "      <th>geometry</th>\n",
       "    </tr>\n",
       "  </thead>\n",
       "  <tbody>\n",
       "    <tr>\n",
       "      <th>0</th>\n",
       "      <td>934816150</td>\n",
       "      <td>75</td>\n",
       "      <td>BROOKLYN</td>\n",
       "      <td>10/18/2018</td>\n",
       "      <td>0:01:00</td>\n",
       "      <td>4/15/2019</td>\n",
       "      <td>23:59:00</td>\n",
       "      <td>COMPLETED</td>\n",
       "      <td></td>\n",
       "      <td></td>\n",
       "      <td>...</td>\n",
       "      <td></td>\n",
       "      <td>18-24</td>\n",
       "      <td>UNKNOWN</td>\n",
       "      <td>M</td>\n",
       "      <td>1016007</td>\n",
       "      <td>180956</td>\n",
       "      <td>40.6633104</td>\n",
       "      <td>-73.88553429</td>\n",
       "      <td>(40.66331040000005, -73.88553428699998)</td>\n",
       "      <td>None</td>\n",
       "    </tr>\n",
       "    <tr>\n",
       "      <th>1</th>\n",
       "      <td>809449275</td>\n",
       "      <td>102</td>\n",
       "      <td>QUEENS</td>\n",
       "      <td>11/7/2018</td>\n",
       "      <td>0:01:00</td>\n",
       "      <td>11/13/2018</td>\n",
       "      <td>10:31:00</td>\n",
       "      <td>COMPLETED</td>\n",
       "      <td></td>\n",
       "      <td></td>\n",
       "      <td>...</td>\n",
       "      <td></td>\n",
       "      <td>45-64</td>\n",
       "      <td>UNKNOWN</td>\n",
       "      <td>F</td>\n",
       "      <td>1026216</td>\n",
       "      <td>190661</td>\n",
       "      <td>40.6899059</td>\n",
       "      <td>-73.84867589</td>\n",
       "      <td>(40.68990589800006, -73.84867588699996)</td>\n",
       "      <td>None</td>\n",
       "    </tr>\n",
       "    <tr>\n",
       "      <th>2</th>\n",
       "      <td>143382740</td>\n",
       "      <td>114</td>\n",
       "      <td>QUEENS</td>\n",
       "      <td>12/9/2018</td>\n",
       "      <td>16:00:00</td>\n",
       "      <td></td>\n",
       "      <td></td>\n",
       "      <td>COMPLETED</td>\n",
       "      <td></td>\n",
       "      <td></td>\n",
       "      <td>...</td>\n",
       "      <td></td>\n",
       "      <td>65+</td>\n",
       "      <td>WHITE HISPANIC</td>\n",
       "      <td>M</td>\n",
       "      <td>1003198</td>\n",
       "      <td>213252</td>\n",
       "      <td>40.75199194</td>\n",
       "      <td>-73.93161304</td>\n",
       "      <td>(40.75199194200008, -73.93161304099993)</td>\n",
       "      <td>None</td>\n",
       "    </tr>\n",
       "    <tr>\n",
       "      <th>3</th>\n",
       "      <td>288975395</td>\n",
       "      <td>68</td>\n",
       "      <td>BROOKLYN</td>\n",
       "      <td>10/16/2018</td>\n",
       "      <td>2:37:00</td>\n",
       "      <td>2/22/2019</td>\n",
       "      <td>9:38:00</td>\n",
       "      <td>COMPLETED</td>\n",
       "      <td></td>\n",
       "      <td></td>\n",
       "      <td>...</td>\n",
       "      <td></td>\n",
       "      <td>UNKNOWN</td>\n",
       "      <td>UNKNOWN</td>\n",
       "      <td>E</td>\n",
       "      <td>976190</td>\n",
       "      <td>170851</td>\n",
       "      <td>40.63562764</td>\n",
       "      <td>-74.02904141</td>\n",
       "      <td>(40.635627641000035, -74.02904141099998)</td>\n",
       "      <td>None</td>\n",
       "    </tr>\n",
       "    <tr>\n",
       "      <th>4</th>\n",
       "      <td>693294470</td>\n",
       "      <td>52</td>\n",
       "      <td>BRONX</td>\n",
       "      <td>10/1/2018</td>\n",
       "      <td>10:00:00</td>\n",
       "      <td></td>\n",
       "      <td></td>\n",
       "      <td>COMPLETED</td>\n",
       "      <td></td>\n",
       "      <td></td>\n",
       "      <td>...</td>\n",
       "      <td></td>\n",
       "      <td>18-24</td>\n",
       "      <td>WHITE HISPANIC</td>\n",
       "      <td>M</td>\n",
       "      <td>1017440</td>\n",
       "      <td>256046</td>\n",
       "      <td>40.86940749</td>\n",
       "      <td>-73.87999831</td>\n",
       "      <td>(40.86940749200004, -73.87999831299999)</td>\n",
       "      <td>None</td>\n",
       "    </tr>\n",
       "  </tbody>\n",
       "</table>\n",
       "<p>5 rows × 36 columns</p>\n",
       "</div>"
      ],
      "text/plain": [
       "  CMPLNT_NUM ADDR_PCT_CD   BORO_NM CMPLNT_FR_DT CMPLNT_FR_TM CMPLNT_TO_DT  \\\n",
       "0  934816150          75  BROOKLYN   10/18/2018      0:01:00    4/15/2019   \n",
       "1  809449275         102    QUEENS    11/7/2018      0:01:00   11/13/2018   \n",
       "2  143382740         114    QUEENS    12/9/2018     16:00:00                \n",
       "3  288975395          68  BROOKLYN   10/16/2018      2:37:00    2/22/2019   \n",
       "4  693294470          52     BRONX    10/1/2018     10:00:00                \n",
       "\n",
       "  CMPLNT_TO_TM CRM_ATPT_CPTD_CD HADEVELOPT HOUSING_PSA  ... TRANSIT_DISTRICT  \\\n",
       "0     23:59:00        COMPLETED                         ...                    \n",
       "1     10:31:00        COMPLETED                         ...                    \n",
       "2                     COMPLETED                         ...                    \n",
       "3      9:38:00        COMPLETED                         ...                    \n",
       "4                     COMPLETED                         ...                    \n",
       "\n",
       "  VIC_AGE_GROUP        VIC_RACE VIC_SEX X_COORD_CD Y_COORD_CD     Latitude  \\\n",
       "0         18-24         UNKNOWN       M    1016007     180956   40.6633104   \n",
       "1         45-64         UNKNOWN       F    1026216     190661   40.6899059   \n",
       "2           65+  WHITE HISPANIC       M    1003198     213252  40.75199194   \n",
       "3       UNKNOWN         UNKNOWN       E     976190     170851  40.63562764   \n",
       "4         18-24  WHITE HISPANIC       M    1017440     256046  40.86940749   \n",
       "\n",
       "      Longitude                                   Lat_Lon geometry  \n",
       "0  -73.88553429   (40.66331040000005, -73.88553428699998)     None  \n",
       "1  -73.84867589   (40.68990589800006, -73.84867588699996)     None  \n",
       "2  -73.93161304   (40.75199194200008, -73.93161304099993)     None  \n",
       "3  -74.02904141  (40.635627641000035, -74.02904141099998)     None  \n",
       "4  -73.87999831   (40.86940749200004, -73.87999831299999)     None  \n",
       "\n",
       "[5 rows x 36 columns]"
      ]
     },
     "execution_count": 7,
     "metadata": {},
     "output_type": "execute_result"
    }
   ],
   "source": [
    "import pandas as pd\n",
    "from keplergl import KeplerGl\n",
    "import geopandas as gpd\n",
    "df = gpd.read_file(\"NYPD_complaints_2018.csv\")\n",
    "df.head()"
   ]
  },
  {
   "cell_type": "markdown",
   "metadata": {},
   "source": [
    "###### Solve: No map rendering issue: https://github.com/keplergl/kepler.gl/issues/583   (Restart Jupyter notebook)\n",
    "\n",
    "pip install --upgrade jupyterthemes\n",
    "\n",
    "jupyter nbextension install --py --sys-prefix keplergl\n",
    "\n",
    "jupyter nbextension enable --py --sys-prefix keplergl"
   ]
  },
  {
   "cell_type": "code",
   "execution_count": 8,
   "metadata": {
    "scrolled": true
   },
   "outputs": [
    {
     "name": "stdout",
     "output_type": "stream",
     "text": [
      "User Guide: https://github.com/keplergl/kepler.gl/blob/master/docs/keplergl-jupyter/user-guide.md\n"
     ]
    },
    {
     "data": {
      "application/vnd.jupyter.widget-view+json": {
       "model_id": "6f42a30deaab4e34a3b3f0716e075a8e",
       "version_major": 2,
       "version_minor": 0
      },
      "text/plain": [
       "KeplerGl(height=600)"
      ]
     },
     "metadata": {},
     "output_type": "display_data"
    }
   ],
   "source": [
    "#Create a basemap \n",
    "map = KeplerGl(height=600, width=800)\n",
    "#show the map\n",
    "map"
   ]
  },
  {
   "cell_type": "code",
   "execution_count": 10,
   "metadata": {
    "scrolled": true
   },
   "outputs": [
    {
     "data": {
      "application/vnd.jupyter.widget-view+json": {
       "model_id": "6f42a30deaab4e34a3b3f0716e075a8e",
       "version_major": 2,
       "version_minor": 0
      },
      "text/plain": [
       "KeplerGl(config={'version': 'v1', 'config': {'visState': {'filters': [], 'layers': [{'id': '79et4jj', 'type': …"
      ]
     },
     "metadata": {},
     "output_type": "display_data"
    }
   ],
   "source": [
    "# Create a gepdataframe\n",
    "gdf = gpd.GeoDataFrame(df, geometry = gpd.points_from_xy(df.Longitude.astype('float32'), df.Latitude.astype('float32')))\n",
    "\n",
    "# Add data to Kepler\n",
    "map.add_data(data=gdf, name=\"crimes\")\n",
    "map"
   ]
  },
  {
   "cell_type": "code",
   "execution_count": null,
   "metadata": {},
   "outputs": [],
   "source": []
  }
 ],
 "metadata": {
  "kernelspec": {
   "display_name": "Python 3",
   "language": "python",
   "name": "python3"
  },
  "language_info": {
   "codemirror_mode": {
    "name": "ipython",
    "version": 3
   },
   "file_extension": ".py",
   "mimetype": "text/x-python",
   "name": "python",
   "nbconvert_exporter": "python",
   "pygments_lexer": "ipython3",
   "version": "3.7.6"
  }
 },
 "nbformat": 4,
 "nbformat_minor": 4
}
