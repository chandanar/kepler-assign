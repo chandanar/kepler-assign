{
 "cells": [
  {
   "cell_type": "code",
   "execution_count": 17,
   "metadata": {},
   "outputs": [
    {
     "data": {
      "text/html": [
       "<div>\n",
       "<style scoped>\n",
       "    .dataframe tbody tr th:only-of-type {\n",
       "        vertical-align: middle;\n",
       "    }\n",
       "\n",
       "    .dataframe tbody tr th {\n",
       "        vertical-align: top;\n",
       "    }\n",
       "\n",
       "    .dataframe thead th {\n",
       "        text-align: right;\n",
       "    }\n",
       "</style>\n",
       "<table border=\"1\" class=\"dataframe\">\n",
       "  <thead>\n",
       "    <tr style=\"text-align: right;\">\n",
       "      <th></th>\n",
       "      <th>CMPLNT_NUM</th>\n",
       "      <th>ADDR_PCT_CD</th>\n",
       "      <th>BORO_NM</th>\n",
       "      <th>CMPLNT_FR_DT</th>\n",
       "      <th>CMPLNT_FR_TM</th>\n",
       "      <th>CMPLNT_TO_DT</th>\n",
       "      <th>CMPLNT_TO_TM</th>\n",
       "      <th>CRM_ATPT_CPTD_CD</th>\n",
       "      <th>HADEVELOPT</th>\n",
       "      <th>HOUSING_PSA</th>\n",
       "      <th>...</th>\n",
       "      <th>TRANSIT_DISTRICT</th>\n",
       "      <th>VIC_AGE_GROUP</th>\n",
       "      <th>VIC_RACE</th>\n",
       "      <th>VIC_SEX</th>\n",
       "      <th>X_COORD_CD</th>\n",
       "      <th>Y_COORD_CD</th>\n",
       "      <th>Latitude</th>\n",
       "      <th>Longitude</th>\n",
       "      <th>Lat_Lon</th>\n",
       "      <th>geometry</th>\n",
       "    </tr>\n",
       "  </thead>\n",
       "  <tbody>\n",
       "    <tr>\n",
       "      <th>0</th>\n",
       "      <td>314773184</td>\n",
       "      <td>48</td>\n",
       "      <td>BRONX</td>\n",
       "      <td>12/31/2019</td>\n",
       "      <td>18:00:00</td>\n",
       "      <td></td>\n",
       "      <td></td>\n",
       "      <td>COMPLETED</td>\n",
       "      <td></td>\n",
       "      <td></td>\n",
       "      <td>...</td>\n",
       "      <td></td>\n",
       "      <td>45-64</td>\n",
       "      <td>WHITE HISPANIC</td>\n",
       "      <td>F</td>\n",
       "      <td>1016990</td>\n",
       "      <td>244612</td>\n",
       "      <td>40.838026269000075</td>\n",
       "      <td>-73.88168118799997</td>\n",
       "      <td>(40.838026269000075, -73.88168118799997)</td>\n",
       "      <td>None</td>\n",
       "    </tr>\n",
       "    <tr>\n",
       "      <th>1</th>\n",
       "      <td>289837961</td>\n",
       "      <td>25</td>\n",
       "      <td>MANHATTAN</td>\n",
       "      <td>12/30/2019</td>\n",
       "      <td>20:30:00</td>\n",
       "      <td>12/31/2019</td>\n",
       "      <td>10:00:00</td>\n",
       "      <td>COMPLETED</td>\n",
       "      <td></td>\n",
       "      <td></td>\n",
       "      <td>...</td>\n",
       "      <td></td>\n",
       "      <td>25-44</td>\n",
       "      <td>WHITE HISPANIC</td>\n",
       "      <td>F</td>\n",
       "      <td>999296</td>\n",
       "      <td>230862</td>\n",
       "      <td>40.800334261000046</td>\n",
       "      <td>-73.94565697199994</td>\n",
       "      <td>(40.800334261000046, -73.94565697199994)</td>\n",
       "      <td>None</td>\n",
       "    </tr>\n",
       "    <tr>\n",
       "      <th>2</th>\n",
       "      <td>535744284</td>\n",
       "      <td>77</td>\n",
       "      <td>BROOKLYN</td>\n",
       "      <td>12/24/2019</td>\n",
       "      <td>16:55:00</td>\n",
       "      <td>12/24/2019</td>\n",
       "      <td>17:00:00</td>\n",
       "      <td>COMPLETED</td>\n",
       "      <td></td>\n",
       "      <td></td>\n",
       "      <td>...</td>\n",
       "      <td></td>\n",
       "      <td>18-24</td>\n",
       "      <td>WHITE</td>\n",
       "      <td>M</td>\n",
       "      <td>1001068</td>\n",
       "      <td>183317</td>\n",
       "      <td>40.66983179600004</td>\n",
       "      <td>-73.93937555099996</td>\n",
       "      <td>(40.66983179600004, -73.93937555099996)</td>\n",
       "      <td>None</td>\n",
       "    </tr>\n",
       "    <tr>\n",
       "      <th>3</th>\n",
       "      <td>895678119</td>\n",
       "      <td>52</td>\n",
       "      <td>BRONX</td>\n",
       "      <td>12/30/2019</td>\n",
       "      <td>19:32:00</td>\n",
       "      <td></td>\n",
       "      <td></td>\n",
       "      <td>COMPLETED</td>\n",
       "      <td></td>\n",
       "      <td></td>\n",
       "      <td>...</td>\n",
       "      <td></td>\n",
       "      <td>UNKNOWN</td>\n",
       "      <td>UNKNOWN</td>\n",
       "      <td>D</td>\n",
       "      <td>1009690</td>\n",
       "      <td>257590</td>\n",
       "      <td>40.87367103500002</td>\n",
       "      <td>-73.90801364899994</td>\n",
       "      <td>(40.87367103500002, -73.90801364899994)</td>\n",
       "      <td>None</td>\n",
       "    </tr>\n",
       "    <tr>\n",
       "      <th>4</th>\n",
       "      <td>299841674</td>\n",
       "      <td>18</td>\n",
       "      <td>MANHATTAN</td>\n",
       "      <td>12/30/2019</td>\n",
       "      <td>15:30:00</td>\n",
       "      <td>12/30/2019</td>\n",
       "      <td>16:50:00</td>\n",
       "      <td>COMPLETED</td>\n",
       "      <td></td>\n",
       "      <td></td>\n",
       "      <td>...</td>\n",
       "      <td></td>\n",
       "      <td>25-44</td>\n",
       "      <td>WHITE HISPANIC</td>\n",
       "      <td>M</td>\n",
       "      <td>985766</td>\n",
       "      <td>216503</td>\n",
       "      <td>40.76093528000007</td>\n",
       "      <td>-73.99452906599998</td>\n",
       "      <td>(40.76093528000007, -73.99452906599998)</td>\n",
       "      <td>None</td>\n",
       "    </tr>\n",
       "  </tbody>\n",
       "</table>\n",
       "<p>5 rows × 36 columns</p>\n",
       "</div>"
      ],
      "text/plain": [
       "  CMPLNT_NUM ADDR_PCT_CD    BORO_NM CMPLNT_FR_DT CMPLNT_FR_TM CMPLNT_TO_DT  \\\n",
       "0  314773184          48      BRONX   12/31/2019     18:00:00                \n",
       "1  289837961          25  MANHATTAN   12/30/2019     20:30:00   12/31/2019   \n",
       "2  535744284          77   BROOKLYN   12/24/2019     16:55:00   12/24/2019   \n",
       "3  895678119          52      BRONX   12/30/2019     19:32:00                \n",
       "4  299841674          18  MANHATTAN   12/30/2019     15:30:00   12/30/2019   \n",
       "\n",
       "  CMPLNT_TO_TM CRM_ATPT_CPTD_CD HADEVELOPT HOUSING_PSA  ... TRANSIT_DISTRICT  \\\n",
       "0                     COMPLETED                         ...                    \n",
       "1     10:00:00        COMPLETED                         ...                    \n",
       "2     17:00:00        COMPLETED                         ...                    \n",
       "3                     COMPLETED                         ...                    \n",
       "4     16:50:00        COMPLETED                         ...                    \n",
       "\n",
       "  VIC_AGE_GROUP        VIC_RACE VIC_SEX X_COORD_CD Y_COORD_CD  \\\n",
       "0         45-64  WHITE HISPANIC       F    1016990     244612   \n",
       "1         25-44  WHITE HISPANIC       F     999296     230862   \n",
       "2         18-24           WHITE       M    1001068     183317   \n",
       "3       UNKNOWN         UNKNOWN       D    1009690     257590   \n",
       "4         25-44  WHITE HISPANIC       M     985766     216503   \n",
       "\n",
       "             Latitude           Longitude  \\\n",
       "0  40.838026269000075  -73.88168118799997   \n",
       "1  40.800334261000046  -73.94565697199994   \n",
       "2   40.66983179600004  -73.93937555099996   \n",
       "3   40.87367103500002  -73.90801364899994   \n",
       "4   40.76093528000007  -73.99452906599998   \n",
       "\n",
       "                                    Lat_Lon geometry  \n",
       "0  (40.838026269000075, -73.88168118799997)     None  \n",
       "1  (40.800334261000046, -73.94565697199994)     None  \n",
       "2   (40.66983179600004, -73.93937555099996)     None  \n",
       "3   (40.87367103500002, -73.90801364899994)     None  \n",
       "4   (40.76093528000007, -73.99452906599998)     None  \n",
       "\n",
       "[5 rows x 36 columns]"
      ]
     },
     "execution_count": 17,
     "metadata": {},
     "output_type": "execute_result"
    }
   ],
   "source": [
    "import pandas as pd\n",
    "from keplergl import KeplerGl\n",
    "import geopandas as gpd\n",
    "df = gpd.read_file(\"D:\\\\data\\\\MSC-2020\\\\Semester-1\\\\BigData\\\\kepler\\\\NYPD_Complaint_Data_Current__Year_To_Date_.csv\")\n",
    "df.head()"
   ]
  },
  {
   "cell_type": "code",
   "execution_count": 41,
   "metadata": {},
   "outputs": [
    {
     "name": "stdout",
     "output_type": "stream",
     "text": [
      "User Guide: https://github.com/keplergl/kepler.gl/blob/master/docs/keplergl-jupyter/user-guide.md\n"
     ]
    },
    {
     "data": {
      "application/vnd.jupyter.widget-view+json": {
       "model_id": "760a1e11f9d4431c98e9a84f75d81dce",
       "version_major": 2,
       "version_minor": 0
      },
      "text/plain": [
       "KeplerGl(height=600)"
      ]
     },
     "metadata": {},
     "output_type": "display_data"
    }
   ],
   "source": [
    "#Create a basemap \n",
    "map = KeplerGl(height=600, width=800)\n",
    "#show the map\n",
    "map"
   ]
  },
  {
   "cell_type": "code",
   "execution_count": 31,
   "metadata": {},
   "outputs": [],
   "source": [
    "# Create a gepdataframe\n",
    "#gdf = gpd.GeoDataFrame(df, geometry=gpd.points_from_xy(df.Longitude, df.Latitude))\n",
    "gdf = gpd.GeoDataFrame(df, geometry = gpd.points_from_xy(df.Longitude.astype('float32'), df.Latitude.astype('float32')))\n",
    "\n",
    "# Add data to Kepler\n",
    "map.add_data(data=gdf, name=\"crimes\")"
   ]
  },
  {
   "cell_type": "code",
   "execution_count": 37,
   "metadata": {},
   "outputs": [
    {
     "data": {
      "application/vnd.jupyter.widget-view+json": {
       "model_id": "4109f1dc2ddd4ecea45037b05efd4ba2",
       "version_major": 2,
       "version_minor": 0
      },
      "text/plain": [
       "KeplerGl(height=600)"
      ]
     },
     "metadata": {},
     "output_type": "display_data"
    }
   ],
   "source": [
    "map\n"
   ]
  },
  {
   "cell_type": "code",
   "execution_count": 25,
   "metadata": {},
   "outputs": [
    {
     "ename": "NameError",
     "evalue": "name 'gdf' is not defined",
     "output_type": "error",
     "traceback": [
      "\u001b[1;31m---------------------------------------------------------------------------\u001b[0m",
      "\u001b[1;31mNameError\u001b[0m                                 Traceback (most recent call last)",
      "\u001b[1;32m<ipython-input-25-b1c74c1665b8>\u001b[0m in \u001b[0;36m<module>\u001b[1;34m\u001b[0m\n\u001b[1;32m----> 1\u001b[1;33m \u001b[0mprint\u001b[0m\u001b[1;33m(\u001b[0m\u001b[0mgdf\u001b[0m\u001b[1;33m.\u001b[0m\u001b[0mhead\u001b[0m\u001b[1;33m(\u001b[0m\u001b[1;33m)\u001b[0m\u001b[1;33m)\u001b[0m\u001b[1;33m\u001b[0m\u001b[1;33m\u001b[0m\u001b[0m\n\u001b[0m",
      "\u001b[1;31mNameError\u001b[0m: name 'gdf' is not defined"
     ]
    }
   ],
   "source": [
    "print(gdf.head())"
   ]
  },
  {
   "cell_type": "code",
   "execution_count": 26,
   "metadata": {},
   "outputs": [
    {
     "name": "stdout",
     "output_type": "stream",
     "text": [
      "  CMPLNT_NUM ADDR_PCT_CD    BORO_NM CMPLNT_FR_DT CMPLNT_FR_TM CMPLNT_TO_DT  \\\n",
      "0  314773184          48      BRONX   12/31/2019     18:00:00                \n",
      "1  289837961          25  MANHATTAN   12/30/2019     20:30:00   12/31/2019   \n",
      "2  535744284          77   BROOKLYN   12/24/2019     16:55:00   12/24/2019   \n",
      "3  895678119          52      BRONX   12/30/2019     19:32:00                \n",
      "4  299841674          18  MANHATTAN   12/30/2019     15:30:00   12/30/2019   \n",
      "\n",
      "  CMPLNT_TO_TM CRM_ATPT_CPTD_CD HADEVELOPT HOUSING_PSA  ... TRANSIT_DISTRICT  \\\n",
      "0                     COMPLETED                         ...                    \n",
      "1     10:00:00        COMPLETED                         ...                    \n",
      "2     17:00:00        COMPLETED                         ...                    \n",
      "3                     COMPLETED                         ...                    \n",
      "4     16:50:00        COMPLETED                         ...                    \n",
      "\n",
      "  VIC_AGE_GROUP        VIC_RACE VIC_SEX X_COORD_CD Y_COORD_CD  \\\n",
      "0         45-64  WHITE HISPANIC       F    1016990     244612   \n",
      "1         25-44  WHITE HISPANIC       F     999296     230862   \n",
      "2         18-24           WHITE       M    1001068     183317   \n",
      "3       UNKNOWN         UNKNOWN       D    1009690     257590   \n",
      "4         25-44  WHITE HISPANIC       M     985766     216503   \n",
      "\n",
      "             Latitude           Longitude  \\\n",
      "0  40.838026269000075  -73.88168118799997   \n",
      "1  40.800334261000046  -73.94565697199994   \n",
      "2   40.66983179600004  -73.93937555099996   \n",
      "3   40.87367103500002  -73.90801364899994   \n",
      "4   40.76093528000007  -73.99452906599998   \n",
      "\n",
      "                                    Lat_Lon geometry  \n",
      "0  (40.838026269000075, -73.88168118799997)     None  \n",
      "1  (40.800334261000046, -73.94565697199994)     None  \n",
      "2   (40.66983179600004, -73.93937555099996)     None  \n",
      "3   (40.87367103500002, -73.90801364899994)     None  \n",
      "4   (40.76093528000007, -73.99452906599998)     None  \n",
      "\n",
      "[5 rows x 36 columns]\n"
     ]
    }
   ],
   "source": [
    "print(df.head())"
   ]
  },
  {
   "cell_type": "code",
   "execution_count": 46,
   "metadata": {},
   "outputs": [
    {
     "name": "stdout",
     "output_type": "stream",
     "text": [
      "User Guide: https://github.com/keplergl/kepler.gl/blob/master/docs/keplergl-jupyter/user-guide.md\n"
     ]
    },
    {
     "data": {
      "application/vnd.jupyter.widget-view+json": {
       "model_id": "bc97995a15a949a68717f7357ecb761b",
       "version_major": 2,
       "version_minor": 0
      },
      "text/plain": [
       "KeplerGl()"
      ]
     },
     "metadata": {},
     "output_type": "display_data"
    }
   ],
   "source": [
    "from keplergl import KeplerGl\n",
    "map_1 = KeplerGl()\n",
    "map_1"
   ]
  },
  {
   "cell_type": "code",
   "execution_count": null,
   "metadata": {},
   "outputs": [],
   "source": []
  },
  {
   "cell_type": "code",
   "execution_count": null,
   "metadata": {},
   "outputs": [],
   "source": []
  }
 ],
 "metadata": {
  "kernelspec": {
   "display_name": "Python 3",
   "language": "python",
   "name": "python3"
  },
  "language_info": {
   "codemirror_mode": {
    "name": "ipython",
    "version": 3
   },
   "file_extension": ".py",
   "mimetype": "text/x-python",
   "name": "python",
   "nbconvert_exporter": "python",
   "pygments_lexer": "ipython3",
   "version": "3.7.6"
  }
 },
 "nbformat": 4,
 "nbformat_minor": 4
}
